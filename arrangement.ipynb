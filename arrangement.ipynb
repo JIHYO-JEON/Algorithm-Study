{
 "cells": [
  {
   "cell_type": "code",
   "execution_count": 3,
   "metadata": {},
   "outputs": [
    {
     "name": "stdout",
     "output_type": "stream",
     "text": [
      "5\n",
      "5\n",
      "2\n",
      "3\n",
      "4\n",
      "1\n",
      "1\n",
      "2\n",
      "3\n",
      "4\n",
      "5\n"
     ]
    }
   ],
   "source": [
    "# 2750\n",
    "\n",
    "N = int(input())\n",
    "l = []\n",
    "for i in range(N):\n",
    "    l.append(int(input()))\n",
    "l.sort()\n",
    "for i in l:\n",
    "    print(i)"
   ]
  },
  {
   "cell_type": "code",
   "execution_count": 6,
   "metadata": {},
   "outputs": [
    {
     "name": "stdout",
     "output_type": "stream",
     "text": [
      "5\n",
      "5\n",
      "4\n",
      "3\n",
      "2\n",
      "1\n",
      "1\n",
      "2\n",
      "3\n",
      "4\n",
      "5\n"
     ]
    }
   ],
   "source": [
    "#2751\n",
    "N = int(input())\n",
    "l = []\n",
    "for i in range(N):\n",
    "    l.append(int(input()))\n",
    "l.sort()\n",
    "for i in l:\n",
    "    print(i)"
   ]
  },
  {
   "cell_type": "code",
   "execution_count": 24,
   "metadata": {},
   "outputs": [
    {
     "name": "stdout",
     "output_type": "stream",
     "text": [
      "5\n",
      "-1\n",
      "-2\n",
      "-3\n",
      "-1\n",
      "-2\n",
      "-2\n",
      "-2\n",
      "-1\n",
      "2\n"
     ]
    }
   ],
   "source": [
    "# 2108\n",
    "N = int(input())\n",
    "l = []\n",
    "numbers = []\n",
    "cnt = [0 for i in range(N)]\n",
    "for i in range(N):\n",
    "    n = int(input())\n",
    "    l.append(n)\n",
    "    if n in numbers:\n",
    "        cnt[numbers.index(n)] += 1\n",
    "    else:\n",
    "        numbers.append(n)\n",
    "        cnt[numbers.index(n)] += 1\n",
    "\n",
    "avg = round(sum(l)/N)\n",
    "l.sort()\n",
    "med = l[round(N/2)]\n",
    "r = max(l)-min(l)\n",
    "so = cnt.copy()\n",
    "so.sort()\n",
    "maxcnt = max(so)\n",
    "so.remove(maxcnt)\n",
    "possible = []\n",
    "if maxcnt in so:\n",
    "    for i in cnt:\n",
    "        if i == maxcnt:\n",
    "            possible.append(numbers[cnt.index(maxcnt)])\n",
    "    possible.sort()\n",
    "    mode = possible[1]\n",
    "else:\n",
    "    mode = numbers[cnt.index(maxcnt)]\n",
    "print(avg)\n",
    "print(med)\n",
    "print(mode)\n",
    "print(r)"
   ]
  },
  {
   "cell_type": "code",
   "execution_count": 26,
   "metadata": {},
   "outputs": [
    {
     "name": "stdout",
     "output_type": "stream",
     "text": [
      "2143\n",
      "4321\n"
     ]
    }
   ],
   "source": [
    "# 1427\n",
    "\n",
    "N = input()\n",
    "l = [int(i) for i in N]\n",
    "l.sort(reverse=True)\n",
    "output = ''\n",
    "for i in l:\n",
    "    output+=str(i)\n",
    "print(output)"
   ]
  },
  {
   "cell_type": "code",
   "execution_count": null,
   "metadata": {},
   "outputs": [],
   "source": [
    "# 11650\n",
    "\n",
    "N = int(input())\n",
    "xlist = []\n",
    "ylist = []\n",
    "for i in range(N):\n",
    "    x, y = input().split()\n",
    "    xlist.append(int(x))\n",
    "    ylist.append(int(y))\n",
    "\n",
    "xlist.sort()\n"
   ]
  }
 ],
 "metadata": {
  "kernelspec": {
   "display_name": "Python 3",
   "language": "python",
   "name": "python3"
  },
  "language_info": {
   "codemirror_mode": {
    "name": "ipython",
    "version": 3
   },
   "file_extension": ".py",
   "mimetype": "text/x-python",
   "name": "python",
   "nbconvert_exporter": "python",
   "pygments_lexer": "ipython3",
   "version": "3.6.2"
  }
 },
 "nbformat": 4,
 "nbformat_minor": 4
}
