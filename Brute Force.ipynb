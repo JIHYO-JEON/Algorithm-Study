{
 "cells": [
  {
   "cell_type": "code",
   "execution_count": null,
   "metadata": {},
   "outputs": [],
   "source": [
    "# 2798\n",
    "\n",
    "N, M = input().split()\n",
    "n = int(N)\n",
    "m = int(M)\n",
    "cards = [int(i) for i in input().split()]\n",
    "s = []\n",
    "for i in cards:\n",
    "    for j in cards[cards.index(i)+1:]:\n",
    "        for k in cards[cards.index(j)+1:]:\n",
    "            case = i+j+k\n",
    "            s.append(case)\n",
    "possible = []\n",
    "for i in s:\n",
    "    if i<=m:\n",
    "        possible.append(i)\n",
    "gap = [abs(i-m) for i in possible]\n",
    "print(possible[gap.index(min(gap))])"
   ]
  },
  {
   "cell_type": "code",
   "execution_count": null,
   "metadata": {},
   "outputs": [],
   "source": [
    "# 2231\n",
    "\n",
    "N = input()\n",
    "n = int(N)\n",
    "makers = []\n",
    "\n",
    "for i in range(1,n):\n",
    "    s = 0\n",
    "    for j in str(i):\n",
    "        s += int(j)\n",
    "    if n == i+s:\n",
    "        makers.append(i)\n",
    "    \n",
    "if len(makers)>0:\n",
    "    print(min(makers))\n",
    "else:\n",
    "    print(0)"
   ]
  },
  {
   "cell_type": "code",
   "execution_count": null,
   "metadata": {},
   "outputs": [],
   "source": [
    "# 7568\n",
    "\n",
    "N = int(input())\n",
    "for i in range(N):\n",
    "    "
   ]
  }
 ],
 "metadata": {
  "kernelspec": {
   "display_name": "Python 3",
   "language": "python",
   "name": "python3"
  },
  "language_info": {
   "codemirror_mode": {
    "name": "ipython",
    "version": 3
   },
   "file_extension": ".py",
   "mimetype": "text/x-python",
   "name": "python",
   "nbconvert_exporter": "python",
   "pygments_lexer": "ipython3",
   "version": "3.6.2"
  }
 },
 "nbformat": 4,
 "nbformat_minor": 4
}
