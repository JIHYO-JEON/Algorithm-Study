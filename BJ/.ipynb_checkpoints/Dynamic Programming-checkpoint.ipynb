{
 "cells": [
  {
   "cell_type": "code",
   "execution_count": 11,
   "metadata": {},
   "outputs": [
    {
     "name": "stdout",
     "output_type": "stream",
     "text": [
      "10\n",
      "55\n"
     ]
    }
   ],
   "source": [
    "# 2748\n",
    "\n",
    "n = int(input())\n",
    "\n",
    "fibo = [-1 for i in range(n+1)]\n",
    "fibo[0] = 0\n",
    "fibo[1] = 1\n",
    "\n",
    "for i in range(n+1):\n",
    "    if i>=2:\n",
    "        fibo[i]=fibo[i-1]+fibo[i-2]\n",
    "\n",
    "print(fibo[n])"
   ]
  },
  {
   "cell_type": "code",
   "execution_count": 25,
   "metadata": {},
   "outputs": [
    {
     "name": "stdout",
     "output_type": "stream",
     "text": [
      "3\n",
      "0\n",
      "1 0\n",
      "1\n",
      "1 0\n",
      "3\n",
      "2 1\n"
     ]
    }
   ],
   "source": [
    "# 1003\n",
    "\n",
    "T = int(input())\n",
    "for i in range(T):\n",
    "    n = int(input())\n",
    "    fibo = [1 for i in range(n+1)]\n",
    "    fibo[0] = 0\n",
    "    for i in range(n+1):\n",
    "        if i>=2:\n",
    "            fibo[i]=fibo[i-1]+fibo[i-2]\n",
    "    if n==0:\n",
    "        print(1, 0)\n",
    "    else:\n",
    "        print(fibo[n-1], fibo[n])"
   ]
  },
  {
   "cell_type": "code",
   "execution_count": 47,
   "metadata": {},
   "outputs": [
    {
     "name": "stdout",
     "output_type": "stream",
     "text": [
      "4\n",
      "5\n"
     ]
    }
   ],
   "source": [
    "# 1904\n",
    "n = int(input())\n",
    "\n",
    "fibo = [1,2,3]\n",
    "\n",
    "for i in range(n):\n",
    "    if i>=2:\n",
    "        fibo[2]=(fibo[0]+fibo[1])%15746\n",
    "        fibo[0]=fibo[1]\n",
    "        fibo[1]=fibo[2]\n",
    "        \n",
    "if n<=2:\n",
    "    print(fibo[n-1])\n",
    "else:\n",
    "    print(fibo[2])"
   ]
  },
  {
   "cell_type": "code",
   "execution_count": 50,
   "metadata": {},
   "outputs": [
    {
     "name": "stdout",
     "output_type": "stream",
     "text": [
      "7871\n",
      "8.444629430770874 ssss\n"
     ]
    }
   ],
   "source": [
    "# import sys\n",
    "import time\n",
    "# n = int(sys.stdin.readline())\n",
    "# n = int(input())\n",
    "n =1000000\n",
    "a=1\n",
    "b=2\n",
    "ckpt = time.time()\n",
    "count = 0 \n",
    "for i in range(n-1):\n",
    "    tmp = a\n",
    "    a = b\n",
    "    b = (tmp+b)\n",
    "    if len(b) > 15746:\n",
    "        count +=1\n",
    "    \n",
    "print('count', count)\n",
    "print(time.time()-ckpt ,'ssss')"
   ]
  },
  {
   "cell_type": "code",
   "execution_count": null,
   "metadata": {},
   "outputs": [],
   "source": []
  }
 ],
 "metadata": {
  "kernelspec": {
   "display_name": "Python 3",
   "language": "python",
   "name": "python3"
  },
  "language_info": {
   "codemirror_mode": {
    "name": "ipython",
    "version": 3
   },
   "file_extension": ".py",
   "mimetype": "text/x-python",
   "name": "python",
   "nbconvert_exporter": "python",
   "pygments_lexer": "ipython3",
   "version": "3.6.2"
  }
 },
 "nbformat": 4,
 "nbformat_minor": 4
}
