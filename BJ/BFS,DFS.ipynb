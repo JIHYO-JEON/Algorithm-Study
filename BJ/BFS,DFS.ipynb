{
 "cells": [
  {
   "cell_type": "code",
   "execution_count": 1,
   "metadata": {},
   "outputs": [
    {
     "name": "stdout",
     "output_type": "stream",
     "text": [
      "4 5 1\n",
      "1 2\n",
      "1 3\n",
      "1 4\n",
      "2 4\n",
      "3 4\n",
      "1\n",
      "1"
     ]
    }
   ],
   "source": [
    "#1260\n",
    "\n",
    "N,M,V = map(int,input().split())\n",
    "edge = [[0 for i in range(N+1)] for j in range(N+1)]\n",
    "visit = [0 for _ in range(N+1)]\n",
    "for _ in range(M):\n",
    "    start, end = map(int,input().split())\n",
    "    edge[start][end] == 1\n",
    "    edge[end][start] == 1\n",
    "    \n",
    "def dfs(V):\n",
    "    print(V,end='')\n",
    "    visit[V] = 1\n",
    "    for i in range(1,N+1):\n",
    "        if visit[i] == 0 and edge[V][i] == 1:\n",
    "            dfs(i)\n",
    "            \n",
    "def bfs(V):\n",
    "    queue = [V]\n",
    "    visit[V] = 0\n",
    "    while queue:\n",
    "        V = queue[0]\n",
    "        print(V, end='')\n",
    "        del queue[0]\n",
    "        for i in range(1,N+1):\n",
    "            if visit[i] == 1 and edge[V][i] == 1:\n",
    "                queue.append(i)\n",
    "                visit[i] = 0\n",
    "\n",
    "\n",
    "dfs(V)\n",
    "print()\n",
    "bfs(V)"
   ]
  },
  {
   "cell_type": "code",
   "execution_count": null,
   "metadata": {},
   "outputs": [],
   "source": []
  }
 ],
 "metadata": {
  "kernelspec": {
   "display_name": "Python 3",
   "language": "python",
   "name": "python3"
  },
  "language_info": {
   "codemirror_mode": {
    "name": "ipython",
    "version": 3
   },
   "file_extension": ".py",
   "mimetype": "text/x-python",
   "name": "python",
   "nbconvert_exporter": "python",
   "pygments_lexer": "ipython3",
   "version": "3.8.3"
  }
 },
 "nbformat": 4,
 "nbformat_minor": 4
}
