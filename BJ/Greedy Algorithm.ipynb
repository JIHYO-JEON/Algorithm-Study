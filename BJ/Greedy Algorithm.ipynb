{
 "cells": [
  {
   "cell_type": "code",
   "execution_count": 9,
   "metadata": {},
   "outputs": [
    {
     "name": "stdout",
     "output_type": "stream",
     "text": [
      "10 4200\n",
      "1\n",
      "5\n",
      "10\n",
      "50\n",
      "100\n",
      "500\n",
      "1000\n",
      "5000\n",
      "10000\n",
      "50000\n",
      "6\n"
     ]
    }
   ],
   "source": [
    "#11047\n",
    "N, K = map(int, input().split())\n",
    "\n",
    "coins = []\n",
    "for i in range(N):\n",
    "    t = int(input())\n",
    "    if K-t >= 0:\n",
    "        coins.append(t)\n",
    "\n",
    "num = 0\n",
    "i = len(coins)-1\n",
    "while True:\n",
    "    if K == 0:\n",
    "        break\n",
    "    elif K - coins[i] >= 0:\n",
    "        n = K//coins[i]\n",
    "        K -= n*coins[i]\n",
    "        num += n\n",
    "    i -= 1\n",
    "print(num)"
   ]
  },
  {
   "cell_type": "code",
   "execution_count": null,
   "metadata": {},
   "outputs": [],
   "source": [
    "# 1931\n",
    "N = int(input())\n",
    "timetable = []\n",
    "\n",
    "for i in range(N):\n",
    "    start, end = map(int, input().split())\n",
    "    timetable.append([start, end])\n",
    "\n",
    "n = 0\n",
    "while True:\n",
    "    "
   ]
  },
  {
   "cell_type": "code",
   "execution_count": 15,
   "metadata": {},
   "outputs": [
    {
     "name": "stdout",
     "output_type": "stream",
     "text": [
      "5\n",
      "3 1 4 3 2\n",
      "[3, 1, 4, 3, 2]\n",
      "32\n"
     ]
    }
   ],
   "source": [
    "# 11399\n",
    "N = int(input())\n",
    "l = [int(i) for i in input().split()]\n",
    "l.sort()\n",
    "time = l[0]\n",
    "for i in range(1, len(l)):\n",
    "    l[i] = l[i-1]+l[i]\n",
    "    time += l[i]\n",
    "print(time)"
   ]
  },
  {
   "cell_type": "code",
   "execution_count": null,
   "metadata": {},
   "outputs": [],
   "source": [
    "# 1541\n"
   ]
  }
 ],
 "metadata": {
  "kernelspec": {
   "display_name": "Python 3",
   "language": "python",
   "name": "python3"
  },
  "language_info": {
   "codemirror_mode": {
    "name": "ipython",
    "version": 3
   },
   "file_extension": ".py",
   "mimetype": "text/x-python",
   "name": "python",
   "nbconvert_exporter": "python",
   "pygments_lexer": "ipython3",
   "version": "3.6.2"
  }
 },
 "nbformat": 4,
 "nbformat_minor": 4
}
