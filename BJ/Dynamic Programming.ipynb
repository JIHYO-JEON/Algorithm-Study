{
 "cells": [
  {
   "cell_type": "code",
   "execution_count": 11,
   "metadata": {},
   "outputs": [
    {
     "name": "stdout",
     "output_type": "stream",
     "text": [
      "10\n",
      "55\n"
     ]
    }
   ],
   "source": [
    "# 2748\n",
    "\n",
    "n = int(input())\n",
    "\n",
    "fibo = [-1 for i in range(n+1)]\n",
    "fibo[0] = 0\n",
    "fibo[1] = 1\n",
    "\n",
    "for i in range(n+1):\n",
    "    if i>=2:\n",
    "        fibo[i]=fibo[i-1]+fibo[i-2]\n",
    "\n",
    "print(fibo[n])"
   ]
  },
  {
   "cell_type": "code",
   "execution_count": 25,
   "metadata": {},
   "outputs": [
    {
     "name": "stdout",
     "output_type": "stream",
     "text": [
      "3\n",
      "0\n",
      "1 0\n",
      "1\n",
      "1 0\n",
      "3\n",
      "2 1\n"
     ]
    }
   ],
   "source": [
    "# 1003\n",
    "\n",
    "T = int(input())\n",
    "for i in range(T):\n",
    "    n = int(input())\n",
    "    fibo = [1 for i in range(n+1)]\n",
    "    fibo[0] = 0\n",
    "    for i in range(n+1):\n",
    "        if i>=2:\n",
    "            fibo[i]=fibo[i-1]+fibo[i-2]\n",
    "    if n==0:\n",
    "        print(1, 0)\n",
    "    else:\n",
    "        print(fibo[n-1], fibo[n])"
   ]
  },
  {
   "cell_type": "code",
   "execution_count": 57,
   "metadata": {},
   "outputs": [
    {
     "name": "stdout",
     "output_type": "stream",
     "text": [
      "1000000\n",
      "7871\n"
     ]
    }
   ],
   "source": [
    "# 1904\n",
    "n = int(input())\n",
    "\n",
    "fibo = [1,2,3]\n",
    "\n",
    "for i in range(n):\n",
    "    if i>=2:\n",
    "        fibo[2]=(fibo[0]+fibo[1])%15746\n",
    "        fibo[0]=fibo[1]\n",
    "        fibo[1]=fibo[2]\n",
    "if n<=2:\n",
    "    print(fibo[n-1])\n",
    "else:\n",
    "    print(fibo[2])"
   ]
  },
  {
   "cell_type": "code",
   "execution_count": 51,
   "metadata": {},
   "outputs": [
    {
     "name": "stdout",
     "output_type": "stream",
     "text": [
      "count 999981\n",
      "8.479548931121826 ssss\n"
     ]
    }
   ],
   "source": [
    "# import sys\n",
    "import time\n",
    "# n = int(sys.stdin.readline())\n",
    "# n = int(input())\n",
    "n =1000000\n",
    "a=1\n",
    "b=2\n",
    "ckpt = time.time()\n",
    "count = 0 \n",
    "for i in range(n-1):\n",
    "    tmp = a\n",
    "    a = b\n",
    "    b = (tmp+b)\n",
    "    if b > 15746:\n",
    "        count +=1\n",
    "    \n",
    "print('count', count)\n",
    "print(time.time()-ckpt ,'ssss')"
   ]
  },
  {
   "cell_type": "code",
   "execution_count": 66,
   "metadata": {},
   "outputs": [
    {
     "name": "stdout",
     "output_type": "stream",
     "text": [
      "1\n",
      "2\n",
      "1\n"
     ]
    }
   ],
   "source": [
    "# 9461\n",
    "#1 1 1 2 2 3 4 5 7 9 12 16 21 28 37\n",
    "T = int(input())\n",
    "for i in range(T):\n",
    "    n = int(input())\n",
    "\n",
    "    fibo = []\n",
    "    fibo.append(1)\n",
    "    fibo.append(1)\n",
    "    fibo.append(1)\n",
    "    fibo.append(2)\n",
    "    fibo.append(2)\n",
    "\n",
    "    for i in range(n+1):\n",
    "        if i>=5:\n",
    "            fibo.append(fibo[i-1]+fibo[i-5])\n",
    "\n",
    "    print(fibo[n-1])"
   ]
  },
  {
   "cell_type": "code",
   "execution_count": 74,
   "metadata": {},
   "outputs": [
    {
     "name": "stdout",
     "output_type": "stream",
     "text": [
      "3\n",
      "26 40 83\n",
      "49 60 57\n",
      "13 89 99\n",
      "96\n"
     ]
    }
   ],
   "source": [
    "# 1149\n",
    "\n",
    "n = int(input())\n",
    "p = []\n",
    "for i in range(n):\n",
    "    p.append(list(map(int, input().split())))\n",
    "for i in range(1, len(p)):\n",
    "    p[i][0] = min(p[i - 1][1], p[i - 1][2]) + p[i][0]\n",
    "    p[i][1] = min(p[i - 1][0], p[i - 1][2]) + p[i][1]\n",
    "    p[i][2] = min(p[i - 1][0], p[i - 1][1]) + p[i][2]\n",
    "print(min(p[n - 1][0], p[n - 1][1], p[n - 1][2]))"
   ]
  },
  {
   "cell_type": "code",
   "execution_count": null,
   "metadata": {},
   "outputs": [],
   "source": [
    "# 1463\n",
    "\n"
   ]
  }
 ],
 "metadata": {
  "kernelspec": {
   "display_name": "Python 3",
   "language": "python",
   "name": "python3"
  },
  "language_info": {
   "codemirror_mode": {
    "name": "ipython",
    "version": 3
   },
   "file_extension": ".py",
   "mimetype": "text/x-python",
   "name": "python",
   "nbconvert_exporter": "python",
   "pygments_lexer": "ipython3",
   "version": "3.8.3"
  }
 },
 "nbformat": 4,
 "nbformat_minor": 4
}
